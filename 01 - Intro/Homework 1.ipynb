{
 "cells": [
  {
   "cell_type": "code",
   "execution_count": 3,
   "id": "fb739bf3-83cc-4359-9dbe-5c64ce0049ab",
   "metadata": {},
   "outputs": [],
   "source": [
    "from groq import Groq\n",
    "import os"
   ]
  },
  {
   "cell_type": "code",
   "execution_count": 4,
   "id": "2b111ce2-f08f-403e-a22d-f684bc6ee114",
   "metadata": {},
   "outputs": [],
   "source": [
    "client = Groq(\n",
    "    api_key=os.environ.get(\"GROQ_API_KEY\"),\n",
    ")\n",
    "\n",
    "chat_completion = client.chat.completions.create(\n",
    "    messages=[\n",
    "        {\n",
    "            \"role\": \"user\",\n",
    "            \"content\": \"Is it too late to join the course?\",\n",
    "        }\n",
    "    ],\n",
    "    model=\"llama3-8b-8192\",\n",
    ")\n"
   ]
  },
  {
   "cell_type": "code",
   "execution_count": 10,
   "id": "72961a63-e3d8-40c7-b924-25c3824a5e49",
   "metadata": {},
   "outputs": [
    {
     "data": {
      "text/plain": [
       "\"I'm happy to help you with your question! However, I need more information about the course you're referring to. Could you please provide more context or details about the course, such as the name, provider, or any relevant deadlines you're aware of?\\n\\nIn general, whether it's too late to join a course depends on various factors, including the course's duration, enrollment deadlines, and availability. Some courses may have a late-start option or be open to new students throughout the duration, while others may have strict deadlines or limited spots available.\\n\\nIf you have any specific questions or concerns about a particular course, I'd be happy to try and help you find an answer.\""
      ]
     },
     "execution_count": 10,
     "metadata": {},
     "output_type": "execute_result"
    }
   ],
   "source": [
    "chat_completion.choices[0].message.content"
   ]
  },
  {
   "cell_type": "code",
   "execution_count": null,
   "id": "1ab9cc2d-fc68-445f-a5e3-e330d1b77b34",
   "metadata": {},
   "outputs": [],
   "source": []
  }
 ],
 "metadata": {
  "kernelspec": {
   "display_name": "Python 3 (ipykernel)",
   "language": "python",
   "name": "python3"
  },
  "language_info": {
   "codemirror_mode": {
    "name": "ipython",
    "version": 3
   },
   "file_extension": ".py",
   "mimetype": "text/x-python",
   "name": "python",
   "nbconvert_exporter": "python",
   "pygments_lexer": "ipython3",
   "version": "3.10.13"
  }
 },
 "nbformat": 4,
 "nbformat_minor": 5
}
